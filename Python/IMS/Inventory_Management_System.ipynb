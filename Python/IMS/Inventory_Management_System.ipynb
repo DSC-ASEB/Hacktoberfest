{
  "nbformat": 4,
  "nbformat_minor": 0,
  "metadata": {
    "colab": {
      "name": "Inventory Management System.ipynb",
      "provenance": []
    },
    "kernelspec": {
      "name": "python3",
      "display_name": "Python 3"
    },
    "language_info": {
      "name": "python"
    }
  },
  "cells": [
    {
      "cell_type": "markdown",
      "metadata": {
        "id": "2z82Az_lnhDi"
      },
      "source": [
        "**Add Items to Inventory**"
      ]
    },
    {
      "cell_type": "code",
      "metadata": {
        "id": "GOJ_KJxZncTm"
      },
      "source": [
        "Records = { 1001 :{ \"Product name\" : \"Dairy Milk\" , \"Price\" : 30 , \"Quantity\" : 20 , \"Brand\" : \"Cadbury\" , \"category\" : \"chocolate\" ,\"Date of Expiry\" : '25/09/2021' },\n",
        "            1002 :{ \"Product name\" : \"5-Star\" , \"Price\" : 25 , \"Quantity\" : 30 , \"Brand\" : \"Cadbury\" , \"category\" : \"chocolate\" ,\"Date of Expiry\" : '25/10/2021' },\n",
        "            1003 :{ \"Product name\" : \"Tiger\" , \"Price\" : 50 , \"Quantity\" : 20 , \"Brand\" : \"Nestle\" , \"category\" : \"biscuits\" ,\"Date of Expiry\" : '15/10/2022' },\n",
        "            1004 :{ \"Product name\" : \"Mirinda\" , \"Price\" : 90 , \"Quantity\" : 10 , \"Brand\" : \"Cococola\" , \"category\" : \"soft drinks\" ,\"Date of Expiry\" : '25/01/2022' },\n",
        "            1005 :{ \"Product name\" : \"Mountain dew\" , \"Price\" : 90 , \"Quantity\" : 25 , \"Brand\" : \"Cococola\" , \"category\" : \"soft drinks\"  ,\"Date of Expiry\" : '25/04/2022'},\n",
        "            1006 :{ \"Product name\" : \"Sting\" , \"Price\" : 40 , \"Quantity\" : 50 , \"Brand\" : \"Sting\" , \"category\" : \"soft drinks\" ,\"Date of Expiry\" : '25/02/2022' },\n",
        "            1007 :{ \"Product name\" : \"Red Bull\" , \"Price\" : 200 , \"Quantity\" : 80 , \"Brand\" : \"Red Bull Gmbh\" , \"category\" : \"soft drinks\" , \"Date of Expiry\" : '05/01/2022'},\n",
        "            1008 :{ \"Product name\" : \"kitkat\" , \"Price\" : 90 , \"Quantity\" : 50 , \"Brand\" : \"Nestle\" , \"category\" : \"chocolate\" ,\"Date of Expiry\" : '14/04/2022'},\n",
        "            1009 :{ \"Product name\" : \"Gatorade\" , \"Price\" : 60 , \"Quantity\" : 25 , \"Brand\" : \"Gatorade\" , \"category\" : \"soft drinks\" ,\"Date of Expiry\" : '24/03/2022'},\n",
        "            1010 :{ \"Product name\" : \"Snikers\" , \"Price\" : 70 , \"Quantity\" : 50 , \"Brand\" : \"Nuts\" , \"category\" : \"chocolate\" ,\"Date of Expiry\" : '17/04/2022'},\n",
        "            1011 :{ \"Product name\" : \"Kacha Mango\" , \"Price\" : 5 , \"Quantity\" : 100 , \"Brand\" : \"Parle\" , \"category\" : \"chocolate\" ,\"Date of Expiry\" : '21/07/2022'},\n",
        "            1012 :{ \"Product name\" : \"Dairymilk silk \" , \"Price\" : 190 , \"Quantity\" : 10 , \"Brand\" : \"Cadbury\" , \"category\" : \"chocolate\" ,\"Date of Expiry\" : '20/02/2022' },\n",
        "            1013 :{ \"Product name\" : \"Bournville\" , \"Price\" : 290 , \"Quantity\" : 80 , \"Brand\" : \"bournville\" , \"category\" : \"chocolate\" ,\"Date of Expiry\" : '05/10/2022' },\n",
        "            1014 :{ \"Product name\" : \"Maggie noodles\" , \"Price\" : 90 , \"Quantity\" : 50 , \"Brand\" : \"nestle\" , \"category\" : \"noodles\" ,\"Date of Expiry\" : '15/05/2022' },\n",
        "            1015 :{ \"Product name\" : \"Yippie noodles\" , \"Price\" : 90 , \"Quantity\" : 50 , \"Brand\" : \"sunfeast\" , \"category\" : \"noodles\" ,\"Date of Expiry\" : '16/10/2022'},\n",
        "            1016 :{ \"Product name\" : \"Poppins\" , \"Price\" : 20 , \"Quantity\" : 25 , \"Brand\" : \"Carmel\" , \"category\" : \"chocolate\" ,\"Date of Expiry\" : '13/04/2022'},\n",
        "            1017 :{ \"Product name\" : \"knorr soupy noodles\" , \"Price\" : 90 , \"Quantity\" : 25 , \"Brand\" : \"knorr\" , \"category\" : \"noodles\" ,\"Date of Expiry\" : '25/04/2022'},\n",
        "            1018 :{ \"Product name\" : \"Top ramen\" , \"Price\" : 90 , \"Quantity\" : 85 , \"Brand\" : \"ramen\" , \"category\" : \"noodles\" ,\"Date of Expiry\" : '25/04/2022' },\n",
        "            1019 :{ \"Product name\" : \"maggie red pasta\" , \"Price\" : 90 , \"Quantity\" : 15 , \"Brand\" : \"nestle\" , \"category\" : \"pasta\" ,\"Date of Expiry\" : '25/04/2022'},\n",
        "            1020 :{ \"Product name\" : \"maggie white sauce pasta\" , \"Price\" : 90 , \"Quantity\" : 14 , \"Brand\" : \"nestle\" , \"category\" : \"pasta\" ,\"Date of Expiry\" : '25/04/2022'},\n",
        "            1021 :{ \"Product name\" : \"maggie italian pasta\" , \"Price\" : 80 , \"Quantity\" : 26 , \"Brand\" : \"nestle\" , \"category\" : \"pasta\" ,\"Date of Expiry\" : '18/04/2022'},\n",
        "            1022 :{ \"Product name\" : \"maggie cheese pasta\" , \"Price\" : 70 , \"Quantity\" : 60 , \"Brand\" : \"nestle\" , \"category\" : \"pasta\" ,\"Date of Expiry\" : '28/10/2021'},\n",
        "            1023 :{ \"Product name\" : \"lays magic masala\" , \"Price\" : 40 , \"Quantity\" : 50 , \"Brand\" : \"lays India\" , \"category\" : \"chips\" ,\"Date of Expiry\" : '15/04/2022'},\n",
        "            1024 :{ \"Product name\" : \"lays classic\" , \"Price\" : 40 , \"Quantity\" : 80 , \"Brand\" : \"lays India\" , \"category\" : \"chips\" , \"Date of Expiry\" : '25/02/2022'},\n",
        "            1025 :{ \"Product name\" : \"lays cream & onion\" , \"Price\" : 30 , \"Quantity\" : 26 , \"Brand\" : \"lays India\" , \"category\" : \"chips\" ,\"Date of Expiry\" : '09/04/2022'},\n",
        "            1026 :{ \"Product name\" : \"lays tango tomato\" , \"Price\" : 30 , \"Quantity\" : 50 , \"Brand\" : \"lays India\" , \"category\" : \"chips\" ,\"Date of Expiry\" : '01/01/2022'},\n",
        "            1027 :{ \"Product name\" : \"hide & seek\" , \"Price\" : 40 , \"Quantity\" : 20 , \"Brand\" : \"parle\" , \"category\" : \"biscuits\" ,\"Date of Expiry\" : '01/10/2021'},\n",
        "            1028 :{ \"Product name\" : \"oreo\" , \"Price\" : 90 , \"Quantity\" : 50 , \"Brand\" : \"cadbury\" , \"category\" : \"biscuits\" ,\"Date of Expiry\" : '01/11/2022'},\n",
        "            1029 :{ \"Product name\" : \"Milano\" , \"Price\" : 40 , \"Quantity\" : 80 , \"Brand\" : \"parle\" , \"category\" : \"biscuits\" ,\"Date of Expiry\" : '11/01/2022'},\n",
        "            1030 :{ \"Product name\" : \"ParleG\" , \"Price\" : 20 , \"Quantity\" : 50 , \"Brand\" : \"Parle\" , \"category\" : \"biscuits\" ,\"Date of Expiry\" : '05/01/2022'},\n",
        "            1031 :{ \"Product name\" : \"Jim Jam\" , \"Price\" : 20 , \"Quantity\" : 80 , \"Brand\" : \"Parle\" , \"category\" : \"biscuits\" ,\"Date of Expiry\" : '19/01/2022'},\n",
        "            \n",
        "}"
      ],
      "execution_count": 48,
      "outputs": []
    },
    {
      "cell_type": "code",
      "metadata": {
        "id": "qtZfHz9hnGXJ"
      },
      "source": [
        "import json\n",
        "\n",
        "js = json.dumps(Records)\n",
        "fd = open(\"Records.json\" , 'w')\n",
        "\n",
        "fd.write(js)\n",
        "\n",
        "fd.close()\n"
      ],
      "execution_count": 49,
      "outputs": []
    },
    {
      "cell_type": "markdown",
      "metadata": {
        "id": "xMqiblTkntAF"
      },
      "source": [
        "**Purchase Products**"
      ]
    },
    {
      "cell_type": "code",
      "metadata": {
        "colab": {
          "base_uri": "https://localhost:8080/"
        },
        "id": "735z4JWXn49O",
        "outputId": "2caf7496-bab3-48a1-cabf-9e64b7cd488d"
      },
      "source": [
        "fd = open(\"Records.json\" , 'r')\n",
        "\n",
        "text = fd.read()\n",
        "\n",
        "fd.close()\n",
        "\n",
        "Records = json.loads(text)\n",
        "Records"
      ],
      "execution_count": 50,
      "outputs": [
        {
          "output_type": "execute_result",
          "data": {
            "text/plain": [
              "{'1001': {'Brand': 'Cadbury',\n",
              "  'Date of Expiry': '25/09/2021',\n",
              "  'Price': 30,\n",
              "  'Product name': 'Dairy Milk',\n",
              "  'Quantity': 20,\n",
              "  'category': 'chocolate'},\n",
              " '1002': {'Brand': 'Cadbury',\n",
              "  'Date of Expiry': '25/10/2021',\n",
              "  'Price': 25,\n",
              "  'Product name': '5-Star',\n",
              "  'Quantity': 30,\n",
              "  'category': 'chocolate'},\n",
              " '1003': {'Brand': 'Nestle',\n",
              "  'Date of Expiry': '15/10/2022',\n",
              "  'Price': 50,\n",
              "  'Product name': 'Tiger',\n",
              "  'Quantity': 20,\n",
              "  'category': 'biscuits'},\n",
              " '1004': {'Brand': 'Cococola',\n",
              "  'Date of Expiry': '25/01/2022',\n",
              "  'Price': 90,\n",
              "  'Product name': 'Mirinda',\n",
              "  'Quantity': 10,\n",
              "  'category': 'soft drinks'},\n",
              " '1005': {'Brand': 'Cococola',\n",
              "  'Date of Expiry': '25/04/2022',\n",
              "  'Price': 90,\n",
              "  'Product name': 'Mountain dew',\n",
              "  'Quantity': 25,\n",
              "  'category': 'soft drinks'},\n",
              " '1006': {'Brand': 'Sting',\n",
              "  'Date of Expiry': '25/02/2022',\n",
              "  'Price': 40,\n",
              "  'Product name': 'Sting',\n",
              "  'Quantity': 50,\n",
              "  'category': 'soft drinks'},\n",
              " '1007': {'Brand': 'Red Bull Gmbh',\n",
              "  'Date of Expiry': '05/01/2022',\n",
              "  'Price': 200,\n",
              "  'Product name': 'Red Bull',\n",
              "  'Quantity': 80,\n",
              "  'category': 'soft drinks'},\n",
              " '1008': {'Brand': 'Nestle',\n",
              "  'Date of Expiry': '14/04/2022',\n",
              "  'Price': 90,\n",
              "  'Product name': 'kitkat',\n",
              "  'Quantity': 50,\n",
              "  'category': 'chocolate'},\n",
              " '1009': {'Brand': 'Gatorade',\n",
              "  'Date of Expiry': '24/03/2022',\n",
              "  'Price': 60,\n",
              "  'Product name': 'Gatorade',\n",
              "  'Quantity': 25,\n",
              "  'category': 'soft drinks'},\n",
              " '1010': {'Brand': 'Nuts',\n",
              "  'Date of Expiry': '17/04/2022',\n",
              "  'Price': 70,\n",
              "  'Product name': 'Snikers',\n",
              "  'Quantity': 50,\n",
              "  'category': 'chocolate'},\n",
              " '1011': {'Brand': 'Parle',\n",
              "  'Date of Expiry': '21/07/2022',\n",
              "  'Price': 5,\n",
              "  'Product name': 'Kacha Mango',\n",
              "  'Quantity': 100,\n",
              "  'category': 'chocolate'},\n",
              " '1012': {'Brand': 'Cadbury',\n",
              "  'Date of Expiry': '20/02/2022',\n",
              "  'Price': 190,\n",
              "  'Product name': 'Dairymilk silk ',\n",
              "  'Quantity': 10,\n",
              "  'category': 'chocolate'},\n",
              " '1013': {'Brand': 'bournville',\n",
              "  'Date of Expiry': '05/10/2022',\n",
              "  'Price': 290,\n",
              "  'Product name': 'Bournville',\n",
              "  'Quantity': 80,\n",
              "  'category': 'chocolate'},\n",
              " '1014': {'Brand': 'nestle',\n",
              "  'Date of Expiry': '15/05/2022',\n",
              "  'Price': 90,\n",
              "  'Product name': 'Maggie noodles',\n",
              "  'Quantity': 50,\n",
              "  'category': 'noodles'},\n",
              " '1015': {'Brand': 'sunfeast',\n",
              "  'Date of Expiry': '16/10/2022',\n",
              "  'Price': 90,\n",
              "  'Product name': 'Yippie noodles',\n",
              "  'Quantity': 50,\n",
              "  'category': 'noodles'},\n",
              " '1016': {'Brand': 'Carmel',\n",
              "  'Date of Expiry': '13/04/2022',\n",
              "  'Price': 20,\n",
              "  'Product name': 'Poppins',\n",
              "  'Quantity': 25,\n",
              "  'category': 'chocolate'},\n",
              " '1017': {'Brand': 'knorr',\n",
              "  'Date of Expiry': '25/04/2022',\n",
              "  'Price': 90,\n",
              "  'Product name': 'knorr soupy noodles',\n",
              "  'Quantity': 25,\n",
              "  'category': 'noodles'},\n",
              " '1018': {'Brand': 'ramen',\n",
              "  'Date of Expiry': '25/04/2022',\n",
              "  'Price': 90,\n",
              "  'Product name': 'Top ramen',\n",
              "  'Quantity': 85,\n",
              "  'category': 'noodles'},\n",
              " '1019': {'Brand': 'nestle',\n",
              "  'Date of Expiry': '25/04/2022',\n",
              "  'Price': 90,\n",
              "  'Product name': 'maggie red pasta',\n",
              "  'Quantity': 15,\n",
              "  'category': 'pasta'},\n",
              " '1020': {'Brand': 'nestle',\n",
              "  'Date of Expiry': '25/04/2022',\n",
              "  'Price': 90,\n",
              "  'Product name': 'maggie white sauce pasta',\n",
              "  'Quantity': 14,\n",
              "  'category': 'pasta'},\n",
              " '1021': {'Brand': 'nestle',\n",
              "  'Date of Expiry': '18/04/2022',\n",
              "  'Price': 80,\n",
              "  'Product name': 'maggie italian pasta',\n",
              "  'Quantity': 26,\n",
              "  'category': 'pasta'},\n",
              " '1022': {'Brand': 'nestle',\n",
              "  'Date of Expiry': '28/10/2021',\n",
              "  'Price': 70,\n",
              "  'Product name': 'maggie cheese pasta',\n",
              "  'Quantity': 60,\n",
              "  'category': 'pasta'},\n",
              " '1023': {'Brand': 'lays India',\n",
              "  'Date of Expiry': '15/04/2022',\n",
              "  'Price': 40,\n",
              "  'Product name': 'lays magic masala',\n",
              "  'Quantity': 50,\n",
              "  'category': 'chips'},\n",
              " '1024': {'Brand': 'lays India',\n",
              "  'Date of Expiry': '25/02/2022',\n",
              "  'Price': 40,\n",
              "  'Product name': 'lays classic',\n",
              "  'Quantity': 80,\n",
              "  'category': 'chips'},\n",
              " '1025': {'Brand': 'lays India',\n",
              "  'Date of Expiry': '09/04/2022',\n",
              "  'Price': 30,\n",
              "  'Product name': 'lays cream & onion',\n",
              "  'Quantity': 26,\n",
              "  'category': 'chips'},\n",
              " '1026': {'Brand': 'lays India',\n",
              "  'Date of Expiry': '01/01/2022',\n",
              "  'Price': 30,\n",
              "  'Product name': 'lays tango tomato',\n",
              "  'Quantity': 50,\n",
              "  'category': 'chips'},\n",
              " '1027': {'Brand': 'parle',\n",
              "  'Date of Expiry': '01/10/2021',\n",
              "  'Price': 40,\n",
              "  'Product name': 'hide & seek',\n",
              "  'Quantity': 20,\n",
              "  'category': 'biscuits'},\n",
              " '1028': {'Brand': 'cadbury',\n",
              "  'Date of Expiry': '01/11/2022',\n",
              "  'Price': 90,\n",
              "  'Product name': 'oreo',\n",
              "  'Quantity': 50,\n",
              "  'category': 'biscuits'},\n",
              " '1029': {'Brand': 'parle',\n",
              "  'Date of Expiry': '11/01/2022',\n",
              "  'Price': 40,\n",
              "  'Product name': 'Milano',\n",
              "  'Quantity': 80,\n",
              "  'category': 'biscuits'},\n",
              " '1030': {'Brand': 'Parle',\n",
              "  'Date of Expiry': '05/01/2022',\n",
              "  'Price': 20,\n",
              "  'Product name': 'ParleG',\n",
              "  'Quantity': 50,\n",
              "  'category': 'biscuits'},\n",
              " '1031': {'Brand': 'Parle',\n",
              "  'Date of Expiry': '19/01/2022',\n",
              "  'Price': 20,\n",
              "  'Product name': 'Jim Jam',\n",
              "  'Quantity': 80,\n",
              "  'category': 'biscuits'}}"
            ]
          },
          "metadata": {},
          "execution_count": 50
        }
      ]
    },
    {
      "cell_type": "code",
      "metadata": {
        "colab": {
          "base_uri": "https://localhost:8080/"
        },
        "id": "b8hw-gcntKxD",
        "outputId": "876bce30-2801-476b-acf0-563d18375911"
      },
      "source": [
        "\n",
        "print(\"\\t \\t \\t \\t \\t----MENU----\")\n",
        "print(\"*****************************************************************************************************************************************\")\n",
        "for i,j in Records.items():\n",
        "\n",
        "  print(\" Product ID: \",i, end=\" \")\n",
        "  print(\"Product Name: \",j[\"Product name\"],\" Price: \",j[\"Price\"], \" Quantity: \",j[\"Quantity\"], \" Brand: \",j[\"Brand\"],\" Category: \",j[\"category\"],\" Date of Expiry: \",j[\"Date of Expiry\"])\n"
      ],
      "execution_count": 51,
      "outputs": [
        {
          "output_type": "stream",
          "name": "stdout",
          "text": [
            "\t \t \t \t \t----MENU----\n",
            "*****************************************************************************************************************************************\n",
            " Product ID:  1001 Product Name:  Dairy Milk  Price:  30  Quantity:  20  Brand:  Cadbury  Category:  chocolate  Date of Expiry:  25/09/2021\n",
            " Product ID:  1002 Product Name:  5-Star  Price:  25  Quantity:  30  Brand:  Cadbury  Category:  chocolate  Date of Expiry:  25/10/2021\n",
            " Product ID:  1003 Product Name:  Tiger  Price:  50  Quantity:  20  Brand:  Nestle  Category:  biscuits  Date of Expiry:  15/10/2022\n",
            " Product ID:  1004 Product Name:  Mirinda  Price:  90  Quantity:  10  Brand:  Cococola  Category:  soft drinks  Date of Expiry:  25/01/2022\n",
            " Product ID:  1005 Product Name:  Mountain dew  Price:  90  Quantity:  25  Brand:  Cococola  Category:  soft drinks  Date of Expiry:  25/04/2022\n",
            " Product ID:  1006 Product Name:  Sting  Price:  40  Quantity:  50  Brand:  Sting  Category:  soft drinks  Date of Expiry:  25/02/2022\n",
            " Product ID:  1007 Product Name:  Red Bull  Price:  200  Quantity:  80  Brand:  Red Bull Gmbh  Category:  soft drinks  Date of Expiry:  05/01/2022\n",
            " Product ID:  1008 Product Name:  kitkat  Price:  90  Quantity:  50  Brand:  Nestle  Category:  chocolate  Date of Expiry:  14/04/2022\n",
            " Product ID:  1009 Product Name:  Gatorade  Price:  60  Quantity:  25  Brand:  Gatorade  Category:  soft drinks  Date of Expiry:  24/03/2022\n",
            " Product ID:  1010 Product Name:  Snikers  Price:  70  Quantity:  50  Brand:  Nuts  Category:  chocolate  Date of Expiry:  17/04/2022\n",
            " Product ID:  1011 Product Name:  Kacha Mango  Price:  5  Quantity:  100  Brand:  Parle  Category:  chocolate  Date of Expiry:  21/07/2022\n",
            " Product ID:  1012 Product Name:  Dairymilk silk   Price:  190  Quantity:  10  Brand:  Cadbury  Category:  chocolate  Date of Expiry:  20/02/2022\n",
            " Product ID:  1013 Product Name:  Bournville  Price:  290  Quantity:  80  Brand:  bournville  Category:  chocolate  Date of Expiry:  05/10/2022\n",
            " Product ID:  1014 Product Name:  Maggie noodles  Price:  90  Quantity:  50  Brand:  nestle  Category:  noodles  Date of Expiry:  15/05/2022\n",
            " Product ID:  1015 Product Name:  Yippie noodles  Price:  90  Quantity:  50  Brand:  sunfeast  Category:  noodles  Date of Expiry:  16/10/2022\n",
            " Product ID:  1016 Product Name:  Poppins  Price:  20  Quantity:  25  Brand:  Carmel  Category:  chocolate  Date of Expiry:  13/04/2022\n",
            " Product ID:  1017 Product Name:  knorr soupy noodles  Price:  90  Quantity:  25  Brand:  knorr  Category:  noodles  Date of Expiry:  25/04/2022\n",
            " Product ID:  1018 Product Name:  Top ramen  Price:  90  Quantity:  85  Brand:  ramen  Category:  noodles  Date of Expiry:  25/04/2022\n",
            " Product ID:  1019 Product Name:  maggie red pasta  Price:  90  Quantity:  15  Brand:  nestle  Category:  pasta  Date of Expiry:  25/04/2022\n",
            " Product ID:  1020 Product Name:  maggie white sauce pasta  Price:  90  Quantity:  14  Brand:  nestle  Category:  pasta  Date of Expiry:  25/04/2022\n",
            " Product ID:  1021 Product Name:  maggie italian pasta  Price:  80  Quantity:  26  Brand:  nestle  Category:  pasta  Date of Expiry:  18/04/2022\n",
            " Product ID:  1022 Product Name:  maggie cheese pasta  Price:  70  Quantity:  60  Brand:  nestle  Category:  pasta  Date of Expiry:  28/10/2021\n",
            " Product ID:  1023 Product Name:  lays magic masala  Price:  40  Quantity:  50  Brand:  lays India  Category:  chips  Date of Expiry:  15/04/2022\n",
            " Product ID:  1024 Product Name:  lays classic  Price:  40  Quantity:  80  Brand:  lays India  Category:  chips  Date of Expiry:  25/02/2022\n",
            " Product ID:  1025 Product Name:  lays cream & onion  Price:  30  Quantity:  26  Brand:  lays India  Category:  chips  Date of Expiry:  09/04/2022\n",
            " Product ID:  1026 Product Name:  lays tango tomato  Price:  30  Quantity:  50  Brand:  lays India  Category:  chips  Date of Expiry:  01/01/2022\n",
            " Product ID:  1027 Product Name:  hide & seek  Price:  40  Quantity:  20  Brand:  parle  Category:  biscuits  Date of Expiry:  01/10/2021\n",
            " Product ID:  1028 Product Name:  oreo  Price:  90  Quantity:  50  Brand:  cadbury  Category:  biscuits  Date of Expiry:  01/11/2022\n",
            " Product ID:  1029 Product Name:  Milano  Price:  40  Quantity:  80  Brand:  parle  Category:  biscuits  Date of Expiry:  11/01/2022\n",
            " Product ID:  1030 Product Name:  ParleG  Price:  20  Quantity:  50  Brand:  Parle  Category:  biscuits  Date of Expiry:  05/01/2022\n",
            " Product ID:  1031 Product Name:  Jim Jam  Price:  20  Quantity:  80  Brand:  Parle  Category:  biscuits  Date of Expiry:  19/01/2022\n"
          ]
        }
      ]
    },
    {
      "cell_type": "code",
      "metadata": {
        "colab": {
          "base_uri": "https://localhost:8080/"
        },
        "id": "6aM3vYUjwgIs",
        "outputId": "36e33ffd-f365-4237-d517-34d2af108fb7"
      },
      "source": [
        "customer_name = input(\"Please enter your name: \")\n",
        "product_id =    input(\"Enter the product id you want to purchase: \")\n",
        "product_quantity = int(input(\"Enter the quantity of the product: \"))\n",
        "\n",
        "Records[product_id][\"Quantity\"] = Records[product_id][\"Quantity\"] - product_quantity\n",
        "print(\"\\n\\n***************************BILL***************************************\")\n",
        "print(\" Dear \" , customer_name , \", Here is your Bill. \")\n",
        " \n",
        "print(\"*********************************************************************\")\n",
        "\n",
        "print(\" PRODUCT ID : \" ,  product_id)\n",
        "print(\" PRODUCT NAME : \" ,  Records[product_id][\"Product name\"])\n",
        "print(\" PRODUCT BRAND : \" , Records[product_id][\"Brand\"])\n",
        "print(\" QUANTITY :\" , product_quantity )     \n",
        "print(\" PRICE : \" , Records[product_id][\"Price\"]) \n",
        "total=Records[product_id][\"Price\"] * product_quantity\n",
        "print(\" Total Amount : \", total)\n",
        "print(\" Congrats You got 10 % Discount !!!\")\n",
        "discount=(10/100)*total\n",
        "print(\" Dicount Amount : \", discount)\n",
        "print(\" Amount to be paid : \", total-discount) \n",
        "print(\"*********************************************************************\")\n",
        "print(\" HAPPY SHOPPING !!! \") \n",
        "\n",
        "print(\"*********************************************************************\")"
      ],
      "execution_count": 52,
      "outputs": [
        {
          "output_type": "stream",
          "name": "stdout",
          "text": [
            "Please enter your name: Prabhath\n",
            "Enter the product id you want to purchase: 1001\n",
            "Enter the quantity of the product: 10\n",
            "\n",
            "\n",
            "***************************BILL***************************************\n",
            " Dear  Prabhath , Here is your Bill. \n",
            "*********************************************************************\n",
            " PRODUCT ID :  1001\n",
            " PRODUCT NAME :  Dairy Milk\n",
            " PRODUCT BRAND :  Cadbury\n",
            " QUANTITY : 10\n",
            " PRICE :  30\n",
            " Total Amount :  300\n",
            " Congrats You got 10 % Discount !!!\n",
            " Dicount Amount :  30.0\n",
            " Amount to be paid :  270.0\n",
            "*********************************************************************\n",
            " HAPPY SHOPPING !!! \n",
            "*********************************************************************\n"
          ]
        }
      ]
    },
    {
      "cell_type": "markdown",
      "metadata": {
        "id": "w1TS-aBdz31c"
      },
      "source": [
        "**Record Sales**"
      ]
    },
    {
      "cell_type": "code",
      "metadata": {
        "colab": {
          "base_uri": "https://localhost:8080/"
        },
        "id": "HR6nKP-az2tf",
        "outputId": "f44b92b6-8cdc-486f-e8fb-3da08d331b22"
      },
      "source": [
        "import time\n",
        "sales={\n",
        "    \"Customer name\": customer_name,\n",
        "    \"Product ID\": product_id,\n",
        "    \"Product Name\": Records[product_id][\"Product name\"],\n",
        "    \"Quantity Purchased\": product_quantity,\n",
        "    \"Price\": Records[product_id][\"Price\"],\n",
        "    \"Amount Paid\": total-discount,\n",
        "    \"Time of purchase\": time.ctime()\n",
        "\n",
        "}\n",
        "\n",
        "sales"
      ],
      "execution_count": 53,
      "outputs": [
        {
          "output_type": "execute_result",
          "data": {
            "text/plain": [
              "{'Amount Paid': 270.0,\n",
              " 'Customer name': 'Prabhath',\n",
              " 'Price': 30,\n",
              " 'Product ID': '1001',\n",
              " 'Product Name': 'Dairy Milk',\n",
              " 'Quantity Purchased': 10,\n",
              " 'Time of purchase': 'Fri Sep  3 13:33:05 2021'}"
            ]
          },
          "metadata": {},
          "execution_count": 53
        }
      ]
    },
    {
      "cell_type": "code",
      "metadata": {
        "id": "OJXTJjoH2QU_"
      },
      "source": [
        "\n",
        "js_sales = json.dumps(sales)\n",
        "fd_sales = open(\"Sales.json\" , 'w')\n",
        "\n",
        "fd_sales.write(js_sales)\n",
        "\n",
        "fd_sales.close()"
      ],
      "execution_count": 54,
      "outputs": []
    },
    {
      "cell_type": "code",
      "metadata": {
        "colab": {
          "base_uri": "https://localhost:8080/"
        },
        "id": "7qnWc1mz2qV0",
        "outputId": "8469eb61-c90f-484b-e76b-b2cc21848e6f"
      },
      "source": [
        "fd = open(\"Sales.json\" , 'r')\n",
        "\n",
        "text = fd.read()\n",
        "\n",
        "fd.close()\n",
        "\n",
        "Sales_ = json.loads(text)\n",
        "Sales_"
      ],
      "execution_count": 55,
      "outputs": [
        {
          "output_type": "execute_result",
          "data": {
            "text/plain": [
              "{'Amount Paid': 270.0,\n",
              " 'Customer name': 'Prabhath',\n",
              " 'Price': 30,\n",
              " 'Product ID': '1001',\n",
              " 'Product Name': 'Dairy Milk',\n",
              " 'Quantity Purchased': 10,\n",
              " 'Time of purchase': 'Fri Sep  3 13:33:05 2021'}"
            ]
          },
          "metadata": {},
          "execution_count": 55
        }
      ]
    }
  ]
}